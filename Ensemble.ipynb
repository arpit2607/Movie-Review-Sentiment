{
 "cells": [
  {
   "cell_type": "code",
   "execution_count": 8,
   "id": "51973feb",
   "metadata": {},
   "outputs": [
    {
     "name": "stdout",
     "output_type": "stream",
     "text": [
      "\n",
      "******************************\n",
      "* Ensemble (RoBERTa + TFIDF) *\n",
      "******************************\n"
     ]
    }
   ],
   "source": [
    "print()\n",
    "print(\"******************************\")\n",
    "print(\"* Ensemble (RoBERTa + TFIDF) *\")\n",
    "print(\"******************************\")"
   ]
  },
  {
   "cell_type": "code",
   "execution_count": 1,
   "id": "a1e72203",
   "metadata": {},
   "outputs": [],
   "source": [
    "import pandas as pd\n",
    "import numpy as np\n",
    "import random\n",
    "import matplotlib.pyplot as plt\n",
    "import os\n",
    "import csv\n",
    "from sklearn.metrics import accuracy_score\n",
    "from sklearn.tree import DecisionTreeClassifier\n",
    "from sklearn.ensemble import VotingClassifier\n",
    "from sklearn.linear_model import LogisticRegression\n",
    "from sklearn.svm import SVC"
   ]
  },
  {
   "cell_type": "code",
   "execution_count": 2,
   "id": "c17d1fda",
   "metadata": {},
   "outputs": [],
   "source": [
    "train=pd.read_csv(f'data/roberta/roberta.train.csv')\n",
    "new_train=pd.read_csv(f'data/tfidf/tfidf.train.csv')\n",
    "test=pd.read_csv(f'data/roberta/roberta.test.csv')\n",
    "new_test=pd.read_csv(f'data/tfidf/tfidf.test.csv')\n",
    "eval_set1=pd.read_csv(f'data/roberta/roberta.eval.anon.csv')\n",
    "eval_set2=pd.read_csv(f'data/tfidf/tfidf.eval.anon.csv')"
   ]
  },
  {
   "cell_type": "code",
   "execution_count": 3,
   "id": "343d6f93",
   "metadata": {},
   "outputs": [],
   "source": [
    "x_train=train.iloc[:,:-1]\n",
    "y_train=train.iloc[:,-1]\n",
    "x_test=test.iloc[:,:-1]\n",
    "y_test=test.iloc[:,-1]\n",
    "new_x_train=new_train.iloc[:,:-1]\n",
    "new_y_train=new_train.iloc[:,-1]\n",
    "new_x_test=new_test.iloc[:,:-1]\n",
    "new_y_test=new_test.iloc[:,-1]\n",
    "eval_x_train1=eval_set1.iloc[:,:-1]\n",
    "eval_x_train2=eval_set2.iloc[:,:-1]"
   ]
  },
  {
   "cell_type": "code",
   "execution_count": 4,
   "id": "a6118eaa",
   "metadata": {},
   "outputs": [],
   "source": [
    "for i in range(x_train.shape[1]):\n",
    "    col = x_train.columns[i]\n",
    "    x_train.rename(columns = {col:'roberta_'+col}, inplace = True)\n",
    "    \n",
    "for i in range(new_x_train.shape[1]):\n",
    "    col = new_x_train.columns[i]\n",
    "    new_x_train.rename(columns = {col:'tfidf_'+col}, inplace = True)\n",
    "    \n",
    "col = new_x_train[new_x_train.columns]\n",
    "x_train = x_train.join(col)\n",
    "\n",
    "for i in range(x_test.shape[1]):\n",
    "    col = x_test.columns[i]\n",
    "    x_test.rename(columns = {col:'roberta_'+col}, inplace = True)\n",
    "    \n",
    "for i in range(new_x_test.shape[1]):\n",
    "    col = new_x_test.columns[i]\n",
    "    new_x_test.rename(columns = {col:'tfidf_'+col}, inplace = True)\n",
    "    \n",
    "col = new_x_test[new_x_test.columns]\n",
    "x_test = x_test.join(col)\n",
    "\n",
    "for i in range(eval_x_train1.shape[1]):\n",
    "    col = eval_x_train1.columns[i]\n",
    "    eval_x_train1.rename(columns = {col:'roberta_'+col}, inplace = True)\n",
    "    \n",
    "for i in range(eval_x_train2.shape[1]):\n",
    "    col = eval_x_train2.columns[i]\n",
    "    eval_x_train2.rename(columns = {col:'tfidf_'+col}, inplace = True)\n",
    "    \n",
    "col = eval_x_train2[eval_x_train2.columns]\n",
    "eval_x_train1 = eval_x_train1.join(col)"
   ]
  },
  {
   "cell_type": "code",
   "execution_count": 5,
   "id": "2de27725",
   "metadata": {},
   "outputs": [
    {
     "name": "stdout",
     "output_type": "stream",
     "text": [
      "Train set accuracy using voting classifier: 0.9394751693002258\n",
      "Test set accuracy using voting classifier: 0.8169848584595129\n"
     ]
    }
   ],
   "source": [
    "dt_classifier = DecisionTreeClassifier(criterion='gini', max_depth=None, random_state=42)\n",
    "lr_classifier = LogisticRegression(max_iter=1000,random_state=42)\n",
    "svm_classifier = SVC(kernel='linear',random_state=42)\n",
    "\n",
    "voting_classifier = VotingClassifier(estimators=[('dt', dt_classifier), \n",
    "                                                 ('lr', lr_classifier), \n",
    "                                                 ('svm', svm_classifier)], \n",
    "                                     voting='hard')\n",
    "\n",
    "voting_classifier.fit(x_train, y_train)\n",
    "y_pred = voting_classifier.predict(x_train)\n",
    "accuracy = accuracy_score(y_train, y_pred)\n",
    "print(\"Train set accuracy using voting classifier:\",accuracy)\n",
    "y_pred = voting_classifier.predict(x_test)\n",
    "accuracy = accuracy_score(y_test, y_pred)\n",
    "print(\"Test set accuracy using voting classifier:\",accuracy)"
   ]
  },
  {
   "cell_type": "code",
   "execution_count": 6,
   "id": "c7d8b26b",
   "metadata": {},
   "outputs": [],
   "source": [
    "y_pred = voting_classifier.predict(eval_x_train1)"
   ]
  },
  {
   "cell_type": "code",
   "execution_count": 7,
   "id": "48c08b4a",
   "metadata": {},
   "outputs": [],
   "source": [
    "result=pd.DataFrame(y_pred,columns=['label'],dtype=int)\n",
    "result.index.name='example_id'\n",
    "result.to_csv('ensemble_results.csv')"
   ]
  },
  {
   "cell_type": "code",
   "execution_count": null,
   "id": "9f7b3817",
   "metadata": {},
   "outputs": [],
   "source": []
  }
 ],
 "metadata": {
  "kernelspec": {
   "display_name": "Python 3 (ipykernel)",
   "language": "python",
   "name": "python3"
  },
  "language_info": {
   "codemirror_mode": {
    "name": "ipython",
    "version": 3
   },
   "file_extension": ".py",
   "mimetype": "text/x-python",
   "name": "python",
   "nbconvert_exporter": "python",
   "pygments_lexer": "ipython3",
   "version": "3.9.15"
  }
 },
 "nbformat": 4,
 "nbformat_minor": 5
}
