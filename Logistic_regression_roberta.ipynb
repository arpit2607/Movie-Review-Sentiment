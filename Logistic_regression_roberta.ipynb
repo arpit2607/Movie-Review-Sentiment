{
 "cells": [
  {
   "cell_type": "code",
   "execution_count": 18,
   "id": "776c0ea5",
   "metadata": {},
   "outputs": [
    {
     "name": "stdout",
     "output_type": "stream",
     "text": [
      "\n",
      "*********************************\n",
      "* Logistic Regression (RoBERTa) *\n",
      "*********************************\n"
     ]
    }
   ],
   "source": [
    "print()\n",
    "print(\"*********************************\")\n",
    "print(\"* Logistic Regression (RoBERTa) *\")\n",
    "print(\"*********************************\")"
   ]
  },
  {
   "cell_type": "code",
   "execution_count": 3,
   "id": "7ef44c16",
   "metadata": {},
   "outputs": [],
   "source": [
    "import pandas as pd\n",
    "import numpy as np\n",
    "import random\n",
    "import matplotlib.pyplot as plt\n",
    "import os\n",
    "import math"
   ]
  },
  {
   "cell_type": "code",
   "execution_count": 4,
   "id": "2b55ac40",
   "metadata": {},
   "outputs": [],
   "source": [
    "train=pd.read_csv(f'data/roberta/roberta.train.csv')\n",
    "train.iloc[:,-1:]=train.iloc[:,-1:].replace(0,-1)"
   ]
  },
  {
   "cell_type": "code",
   "execution_count": 5,
   "id": "6141ef8e",
   "metadata": {},
   "outputs": [],
   "source": [
    "test=pd.read_csv(f'data/roberta/roberta.test.csv')\n",
    "test.iloc[:,-1:]=test.iloc[:,-1:].replace(0,-1)"
   ]
  },
  {
   "cell_type": "code",
   "execution_count": 6,
   "id": "efe701f5",
   "metadata": {},
   "outputs": [],
   "source": [
    "x_train=train.iloc[:,:-1]\n",
    "y_train=train.iloc[:,-1]\n",
    "x_test=test.iloc[:,:-1]\n",
    "y_test=test.iloc[:,-1]"
   ]
  },
  {
   "cell_type": "code",
   "execution_count": 7,
   "id": "e5524e69",
   "metadata": {},
   "outputs": [],
   "source": [
    "def get_w_b(size):\n",
    "    np.random.seed(42)\n",
    "    w=np.random.normal(-0.01,0.01,size)\n",
    "    w=np.array(w)\n",
    "    b=np.random.normal(-0.01,0.01)\n",
    "    return w,b"
   ]
  },
  {
   "cell_type": "code",
   "execution_count": 8,
   "id": "0da28f37",
   "metadata": {},
   "outputs": [],
   "source": [
    "def predict(x,weights,bias):\n",
    "    y_pred = []\n",
    "    for i in x.values: \n",
    "        if (np.dot(weights.transpose(), i)+bias) <= 0:\n",
    "            pred = -1 \n",
    "        else:\n",
    "            pred = 1\n",
    "        y_pred.append(pred)\n",
    "    return y_pred"
   ]
  },
  {
   "cell_type": "code",
   "execution_count": 9,
   "id": "6a47b8cc",
   "metadata": {},
   "outputs": [],
   "source": [
    "def accuracy(y_pred,y):\n",
    "    count=0\n",
    "    for i in range(len(y)):\n",
    "        if(y_pred[i]==y[i]):\n",
    "            count+=1\n",
    "    return count/len(y)"
   ]
  },
  {
   "cell_type": "code",
   "execution_count": 10,
   "id": "42b069f3",
   "metadata": {},
   "outputs": [],
   "source": [
    "def fit(epochs,x_train,y_train,lr,w,b,c,x_developmental=None,y_developmental=None,flag=False):\n",
    "    initial_lr=lr\n",
    "    ilist=[]\n",
    "    devlist=[]\n",
    "    weight_dict={}\n",
    "    bias_dict={}\n",
    "    accuracy_dict={}\n",
    "    updates=0\n",
    "    index = np.arange(x_train.shape[0])\n",
    "    for i in range(epochs):\n",
    "        lr=initial_lr/(1+i)\n",
    "        np.random.seed(i)\n",
    "        np.random.shuffle(index)\n",
    "        for j in index:\n",
    "            x=x_train.iloc[j]\n",
    "            y=y_train[j]\n",
    "            if(y*(np.dot(w.transpose(),x)))<=1:\n",
    "                w=w*(1-lr)+lr*c*y*x\n",
    "                b=b*(1-lr)+lr*c*y\n",
    "                updates+=1\n",
    "            else:\n",
    "                w=w*(1-lr)\n",
    "                b=b*(1-lr)\n",
    "                updates+=1\n",
    "            weights=w\n",
    "            bias=b\n",
    "            learning_rate=lr\n",
    "        if(flag):\n",
    "            y_pred=predict(x_developmental,weights,bias)\n",
    "            ilist.append(i)\n",
    "            devacc=accuracy(y_pred,y_developmental.values.tolist())\n",
    "            weight_dict[i+1]=w\n",
    "            bias_dict[i+1]=b\n",
    "            accuracy_dict[i+1]=devacc\n",
    "            devlist.append(devacc)\n",
    "    if(flag):\n",
    "        return weights,bias,learning_rate,updates,weight_dict,bias_dict,accuracy_dict,ilist,devlist\n",
    "        \n",
    "    return weights,bias,learning_rate"
   ]
  },
  {
   "cell_type": "code",
   "execution_count": 11,
   "id": "5ad7e02d",
   "metadata": {},
   "outputs": [],
   "source": [
    "length=int(x_train.shape[0] * 0.8)\n",
    "new_x_train=x_train.head(length)\n",
    "new_y_train=y_train.head(length)\n",
    "x_val=x_train.tail(x_train.shape[0]-length)\n",
    "y_val=y_train.tail(x_train.shape[0]-length)"
   ]
  },
  {
   "cell_type": "code",
   "execution_count": 12,
   "id": "a4d8702b",
   "metadata": {},
   "outputs": [],
   "source": [
    "def k_cross_validation(learning_rates,tradeoffs):\n",
    "    epochs=20\n",
    "    val_accuracy={}\n",
    "    target=new_y_train\n",
    "    features=new_x_train\n",
    "    test_label=y_val\n",
    "    test_features=x_val\n",
    "    for lr in learning_rates:\n",
    "        for c in tradeoffs:\n",
    "            print(lr,c)\n",
    "            w,b=get_w_b(features.shape[1])\n",
    "            weights,bias,f_lr=fit(epochs,new_x_train,new_y_train,lr,w,b,c)\n",
    "            y_pred_val=predict(x_val,weights,bias)\n",
    "            validation_accuracy=accuracy(y_pred_val,y_val.values.tolist())\n",
    "            print(validation_accuracy)\n",
    "            val_accuracy[(lr,c)]=validation_accuracy\n",
    "\n",
    "    return val_accuracy"
   ]
  },
  {
   "cell_type": "code",
   "execution_count": 13,
   "id": "7a72973c",
   "metadata": {},
   "outputs": [
    {
     "name": "stdout",
     "output_type": "stream",
     "text": [
      "1 0.1\n",
      "0.5021156558533145\n",
      "1 1\n",
      "0.5021156558533145\n",
      "1 10\n",
      "0.5021156558533145\n",
      "1 100\n",
      "0.5021156558533145\n",
      "1 1000\n",
      "0.5021156558533145\n",
      "0.1 0.1\n",
      "0.4978843441466855\n",
      "0.1 1\n",
      "0.5021156558533145\n",
      "0.1 10\n",
      "0.5021156558533145\n",
      "0.1 100\n",
      "0.5021156558533145\n",
      "0.1 1000\n",
      "0.5021156558533145\n",
      "0.01 0.1\n",
      "0.4978843441466855\n",
      "0.01 1\n",
      "0.4978843441466855\n",
      "0.01 10\n",
      "0.5021156558533145\n",
      "0.01 100\n",
      "0.5021156558533145\n",
      "0.01 1000\n",
      "0.5021156558533145\n",
      "0.001 0.1\n",
      "0.5021156558533145\n",
      "0.001 1\n",
      "0.5021156558533145\n",
      "0.001 10\n",
      "0.4978843441466855\n",
      "0.001 100\n",
      "0.5035260930888575\n",
      "0.001 1000\n",
      "0.5126939351198871\n",
      "0.0001 0.1\n",
      "0.5021156558533145\n",
      "0.0001 1\n",
      "0.5021156558533145\n",
      "0.0001 10\n",
      "0.5021156558533145\n",
      "0.0001 100\n",
      "0.5063469675599436\n",
      "0.0001 1000\n",
      "0.7983074753173484\n"
     ]
    }
   ],
   "source": [
    "learning_rates=[1,0.1,0.01,0.001,0.0001]\n",
    "tradeoffs=[0.1,1,10,100,1000]\n",
    "\n",
    "val_accuracy=k_cross_validation(learning_rates,tradeoffs)"
   ]
  },
  {
   "cell_type": "code",
   "execution_count": 14,
   "id": "340b7e72",
   "metadata": {},
   "outputs": [
    {
     "name": "stdout",
     "output_type": "stream",
     "text": [
      "Validation accuracies using Logistic Regression:\n",
      "\n",
      "Crossvalidation for (learning rate, tradeoff):( 1 , 0.1 )\n",
      "Test accuracy: 0.5021156558533145\n",
      "\n",
      "Crossvalidation for (learning rate, tradeoff):( 1 , 1 )\n",
      "Test accuracy: 0.5021156558533145\n",
      "\n",
      "Crossvalidation for (learning rate, tradeoff):( 1 , 10 )\n",
      "Test accuracy: 0.5021156558533145\n",
      "\n",
      "Crossvalidation for (learning rate, tradeoff):( 1 , 100 )\n",
      "Test accuracy: 0.5021156558533145\n",
      "\n",
      "Crossvalidation for (learning rate, tradeoff):( 1 , 1000 )\n",
      "Test accuracy: 0.5021156558533145\n",
      "\n",
      "Crossvalidation for (learning rate, tradeoff):( 0.1 , 0.1 )\n",
      "Test accuracy: 0.4978843441466855\n",
      "\n",
      "Crossvalidation for (learning rate, tradeoff):( 0.1 , 1 )\n",
      "Test accuracy: 0.5021156558533145\n",
      "\n",
      "Crossvalidation for (learning rate, tradeoff):( 0.1 , 10 )\n",
      "Test accuracy: 0.5021156558533145\n",
      "\n",
      "Crossvalidation for (learning rate, tradeoff):( 0.1 , 100 )\n",
      "Test accuracy: 0.5021156558533145\n",
      "\n",
      "Crossvalidation for (learning rate, tradeoff):( 0.1 , 1000 )\n",
      "Test accuracy: 0.5021156558533145\n",
      "\n",
      "Crossvalidation for (learning rate, tradeoff):( 0.01 , 0.1 )\n",
      "Test accuracy: 0.4978843441466855\n",
      "\n",
      "Crossvalidation for (learning rate, tradeoff):( 0.01 , 1 )\n",
      "Test accuracy: 0.4978843441466855\n",
      "\n",
      "Crossvalidation for (learning rate, tradeoff):( 0.01 , 10 )\n",
      "Test accuracy: 0.5021156558533145\n",
      "\n",
      "Crossvalidation for (learning rate, tradeoff):( 0.01 , 100 )\n",
      "Test accuracy: 0.5021156558533145\n",
      "\n",
      "Crossvalidation for (learning rate, tradeoff):( 0.01 , 1000 )\n",
      "Test accuracy: 0.5021156558533145\n",
      "\n",
      "Crossvalidation for (learning rate, tradeoff):( 0.001 , 0.1 )\n",
      "Test accuracy: 0.5021156558533145\n",
      "\n",
      "Crossvalidation for (learning rate, tradeoff):( 0.001 , 1 )\n",
      "Test accuracy: 0.5021156558533145\n",
      "\n",
      "Crossvalidation for (learning rate, tradeoff):( 0.001 , 10 )\n",
      "Test accuracy: 0.4978843441466855\n",
      "\n",
      "Crossvalidation for (learning rate, tradeoff):( 0.001 , 100 )\n",
      "Test accuracy: 0.5035260930888575\n",
      "\n",
      "Crossvalidation for (learning rate, tradeoff):( 0.001 , 1000 )\n",
      "Test accuracy: 0.5126939351198871\n",
      "\n",
      "Crossvalidation for (learning rate, tradeoff):( 0.0001 , 0.1 )\n",
      "Test accuracy: 0.5021156558533145\n",
      "\n",
      "Crossvalidation for (learning rate, tradeoff):( 0.0001 , 1 )\n",
      "Test accuracy: 0.5021156558533145\n",
      "\n",
      "Crossvalidation for (learning rate, tradeoff):( 0.0001 , 10 )\n",
      "Test accuracy: 0.5021156558533145\n",
      "\n",
      "Crossvalidation for (learning rate, tradeoff):( 0.0001 , 100 )\n",
      "Test accuracy: 0.5063469675599436\n",
      "\n",
      "Crossvalidation for (learning rate, tradeoff):( 0.0001 , 1000 )\n",
      "Test accuracy: 0.7983074753173484\n",
      "\n",
      "Best learning rate using Logistic Regression: 0.0001\n",
      "Best tradeoff using Logistic Regression: 1000\n",
      "Best validation accuracy using Logistic Regression: 0.7983074753173484\n",
      "\n"
     ]
    }
   ],
   "source": [
    "print(\"Validation accuracies using Logistic Regression:\")\n",
    "print()\n",
    "for i in learning_rates:\n",
    "    for j in tradeoffs:\n",
    "        print(\"Crossvalidation for (learning rate, tradeoff):(\",i,\",\",j,\")\")\n",
    "        print(\"Test accuracy:\", val_accuracy[(i,j)])\n",
    "        print()\n",
    "\n",
    "best_accuracy=-1\n",
    "for i in learning_rates:\n",
    "    for j in tradeoffs:\n",
    "        if best_accuracy<val_accuracy[(i,j)]:\n",
    "            best_accuracy=val_accuracy[(i,j)]\n",
    "            best_lr=i\n",
    "            best_c=j\n",
    "\n",
    "print(\"Best learning rate using Logistic Regression:\", best_lr)\n",
    "print(\"Best tradeoff using Logistic Regression:\", best_c)\n",
    "print(\"Best validation accuracy using Logistic Regression:\", best_accuracy)\n",
    "print()"
   ]
  },
  {
   "cell_type": "code",
   "execution_count": 17,
   "id": "cea7630e",
   "metadata": {},
   "outputs": [
    {
     "name": "stdout",
     "output_type": "stream",
     "text": [
      "\n",
      "Best epoch number with best development accuracy using Logistic Regression: 16\n",
      "Train set accuracy using Logistic Regression: 0.8030474040632054\n",
      "Test set accuracy using Logistic Regression: 0.7965766951942067\n"
     ]
    }
   ],
   "source": [
    "w,b=get_w_b(x_train.shape[1])\n",
    "epochs=20\n",
    "weights,bias,lr,updates,weight_dict,bias_dict,accuracy_dict,x_axis,y_axis=fit(epochs,x_train,y_train,best_lr,w,b,best_c,x_val,y_val,True)\n",
    "best_epoch = max(accuracy_dict, key=lambda x: accuracy_dict[x])\n",
    "best_weights=weight_dict[best_epoch]\n",
    "best_bias=bias_dict[best_epoch]\n",
    "print()\n",
    "print(\"Best epoch number with best development accuracy using Logistic Regression:\",best_epoch)\n",
    "y_pred=predict(x_train,best_weights,best_bias)\n",
    "print(\"Train set accuracy using Logistic Regression:\",accuracy(y_pred,y_train.values.tolist()))\n",
    "y_pred=predict(x_test,best_weights,best_bias)\n",
    "print(\"Test set accuracy using Logistic Regression:\",accuracy(y_pred,y_test.values.tolist()))"
   ]
  },
  {
   "cell_type": "code",
   "execution_count": 16,
   "id": "fde58934",
   "metadata": {},
   "outputs": [],
   "source": [
    "eval_set=pd.read_csv(f'data/roberta/roberta.eval.anon.csv')\n",
    "eval_x_train=eval_set.iloc[:,:-1]\n",
    "\n",
    "y_pred=predict(eval_x_train,best_weights,best_bias)\n",
    "for i in range(len(y_pred)):\n",
    "    if y_pred[i]==-1:\n",
    "        y_pred[i]=0\n",
    "result=pd.DataFrame(y_pred,columns=['label'],dtype=int)\n",
    "result.index.name='example_id'\n",
    "result.to_csv('lr_roberta_results.csv')"
   ]
  },
  {
   "cell_type": "code",
   "execution_count": null,
   "id": "21b610ab",
   "metadata": {},
   "outputs": [],
   "source": []
  }
 ],
 "metadata": {
  "kernelspec": {
   "display_name": "Python 3 (ipykernel)",
   "language": "python",
   "name": "python3"
  },
  "language_info": {
   "codemirror_mode": {
    "name": "ipython",
    "version": 3
   },
   "file_extension": ".py",
   "mimetype": "text/x-python",
   "name": "python",
   "nbconvert_exporter": "python",
   "pygments_lexer": "ipython3",
   "version": "3.9.15"
  }
 },
 "nbformat": 4,
 "nbformat_minor": 5
}
